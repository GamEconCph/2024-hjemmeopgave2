{
 "cells": [
  {
   "cell_type": "markdown",
   "metadata": {},
   "source": [
    "# Empirical CDFs and Distances Between Them\n",
    "\n",
    "This notebook covers how to use the function `ECDF` to obtain an estimate of a CDF, and how we can use it to compute the distance between two functions. "
   ]
  },
  {
   "cell_type": "code",
   "execution_count": 2,
   "metadata": {},
   "outputs": [],
   "source": [
    "import pandas as pd \n",
    "import numpy as np \n",
    "import seaborn as sns \n",
    "import matplotlib.pyplot as plt \n",
    "from statsmodels.distributions.empirical_distribution import ECDF\n",
    "from scipy.optimize import minimize"
   ]
  },
  {
   "cell_type": "markdown",
   "metadata": {},
   "source": [
    "Our input is some dataset that we (pretend we) don't know the distribution for. "
   ]
  },
  {
   "cell_type": "code",
   "execution_count": 23,
   "metadata": {},
   "outputs": [],
   "source": [
    "N = 13_337 # Number of observed valeus\n",
    "x = np.random.standard_gamma(1., size=N)"
   ]
  },
  {
   "cell_type": "markdown",
   "metadata": {},
   "source": [
    "Our model produces some simulated vector of length $R$. "
   ]
  },
  {
   "cell_type": "code",
   "execution_count": 25,
   "metadata": {},
   "outputs": [],
   "source": [
    "R = 20_000 # \n",
    "def predict_distribution(mu): \n",
    "    np.random.seed(1337) # important to make sure we get the same values each time\n",
    "    v = np.random.chisquare(mu, size=(R,3))\n",
    "    # then we do some calculations on v\n",
    "    w = np.mean(v, axis=1)\n",
    "\n",
    "    # and return \n",
    "    return w "
   ]
  },
  {
   "cell_type": "code",
   "execution_count": 37,
   "metadata": {},
   "outputs": [
    {
     "data": {
      "image/png": "[encoded data removed]",
      "text/plain": [
       "<Figure size 432x288 with 1 Axes>"
      ]
     },
     "metadata": {
      "needs_background": "light"
     },
     "output_type": "display_data"
    }
   ],
   "source": [
    "mu_guess = 0.5\n",
    "y = predict_distribution(mu_guess)\n",
    "plt.hist(x, alpha=0.5, bins=50, density=True, edgecolor='w');\n",
    "plt.hist(y, alpha=0.5, bins=50, density=True, edgecolor='w');\n"
   ]
  },
  {
   "cell_type": "code",
   "execution_count": 40,
   "metadata": {},
   "outputs": [
    {
     "name": "stdout",
     "output_type": "stream",
     "text": [
      "at x= 1.2, the CDFs are: data = 0.6949089000524856, sim = 0.8974000000000001\n"
     ]
    }
   ],
   "source": [
    "# create lambda functions with the CDFs \n",
    "f_data = ECDF(x)\n",
    "f_sim  = ECDF(y) \n",
    "\n",
    "this_x = 1.2\n",
    "print(f'at x= {this_x}, the CDFs are: data = {f_data(this_x)}, sim = {f_sim(this_x)}')"
   ]
  },
  {
   "cell_type": "code",
   "execution_count": null,
   "metadata": {},
   "outputs": [],
   "source": [
    "# we can also plot the empirical CDF functions on our grid\n",
    "G = 50 # grid points \n",
    "xx = np.linspace(0,10,G)\n",
    "\n",
    "plt.plot(xx, f_data(xx), '-o', label='data');\n",
    "plt.plot(xx, f_sim(xx), '-o', label='sim');\n",
    "plt.legend(); "
   ]
  },
  {
   "cell_type": "markdown",
   "metadata": {},
   "source": [
    "Now we compute the distance between the two functions squared "
   ]
  },
  {
   "cell_type": "code",
   "execution_count": 30,
   "metadata": {},
   "outputs": [],
   "source": [
    "def Q(mu): \n",
    "    w = predict_distribution(mu) # draw a fresh set of values (NOTE: important we use a seed!!)\n",
    "    f_sim = ECDF(w) # f_sim is our lambda function \n",
    "    dist = (f_data(xx) - f_sim(xx))**2 # pointwise \"distance\" (in squared error)\n",
    "    L2 = np.mean(dist) # mean is over the grid points (of which there are G)\n",
    "    return L2"
   ]
  },
  {
   "cell_type": "code",
   "execution_count": 34,
   "metadata": {},
   "outputs": [
    {
     "name": "stdout",
     "output_type": "stream",
     "text": [
      "Distance at mu=0.5: 0.008974269574713662\n"
     ]
    },
    {
     "data": {
      "image/png": "[encoded data removed]",
      "text/plain": [
       "<Figure size 432x288 with 1 Axes>"
      ]
     },
     "metadata": {
      "needs_background": "light"
     },
     "output_type": "display_data"
    }
   ],
   "source": [
    "print(f'Distance at mu=0.5: {Q(0.5)}')\n",
    "mm = np.linspace(0.1,3.,10)\n",
    "yy = np.array([Q(mu) for mu in mm])\n",
    "plt.plot(mm, yy, '-o', label='$Q(\\mu)$'); plt.legend(); "
   ]
  },
  {
   "cell_type": "markdown",
   "metadata": {},
   "source": [
    "From here, it's simply a matter of using `minimize` from `scipy` to find the precise minimum. "
   ]
  }
 ],
 "metadata": {
  "interpreter": {
   "hash": "2f28796849cc7d0dfb7168fb91405d73a8cccecd280e63fee6edce8a728c9dcc"
  },
  "kernelspec": {
   "display_name": "Python 3.9.7 ('base')",
   "language": "python",
   "name": "python3"
  },
  "language_info": {
   "codemirror_mode": {
    "name": "ipython",
    "version": 3
   },
   "file_extension": ".py",
   "mimetype": "text/x-python",
   "name": "python",
   "nbconvert_exporter": "python",
   "pygments_lexer": "ipython3",
   "version": "3.9.7"
  }
 },
 "nbformat": 4,
 "nbformat_minor": 4
}
